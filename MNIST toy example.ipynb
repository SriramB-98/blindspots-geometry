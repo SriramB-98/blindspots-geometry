{
 "cells": [
  {
   "cell_type": "code",
   "execution_count": 1,
   "id": "61499f27",
   "metadata": {},
   "outputs": [
    {
     "name": "stdout",
     "output_type": "stream",
     "text": [
      "Device: cuda\n"
     ]
    }
   ],
   "source": [
    "import torch\n",
    "import torch.nn as nn\n",
    "import torchvision\n",
    "import torchvision.transforms as transforms\n",
    "\n",
    "# Check Device configuration\n",
    "device = torch.device('cuda' if torch.cuda.is_available() else 'cpu')\n",
    "\n",
    "print(\"Device:\",device)\n",
    "\n",
    "# Define Hyper-parameters \n",
    "input_size = 784\n",
    "hidden_size = 500\n",
    "num_classes = 10\n",
    "num_epochs = 45\n",
    "batch_size = 100\n",
    "learning_rate = 0.001\n",
    "\n",
    "# MNIST dataset \n",
    "train_dataset = torchvision.datasets.MNIST(root='./MNIST_data', \n",
    "                                           train=True, \n",
    "                                           transform=transforms.ToTensor(),  \n",
    "                                           download=True)\n",
    "\n",
    "test_dataset = torchvision.datasets.MNIST(root='./MNIST_data', \n",
    "                                          train=False, \n",
    "                                          transform=transforms.ToTensor(),\n",
    "                                          download=True)\n",
    "\n",
    "# Data loader\n",
    "train_loader = torch.utils.data.DataLoader(dataset=train_dataset, \n",
    "                                           batch_size=batch_size, \n",
    "                                           shuffle=True)\n",
    "\n",
    "test_loader = torch.utils.data.DataLoader(dataset=test_dataset, \n",
    "                                          batch_size=batch_size, \n",
    "                                          shuffle=False)"
   ]
  },
  {
   "cell_type": "code",
   "execution_count": 2,
   "id": "b539f406",
   "metadata": {},
   "outputs": [
    {
     "data": {
      "text/plain": [
       "<All keys matched successfully>"
      ]
     },
     "execution_count": 2,
     "metadata": {},
     "output_type": "execute_result"
    }
   ],
   "source": [
    "# Fully connected neural network\n",
    "class NeuralNet(nn.Module):\n",
    "    def __init__(self, input_size, hidden_size, num_classes):\n",
    "        super(NeuralNet, self).__init__()\n",
    "        self.fc1 = nn.Linear(input_size, hidden_size) \n",
    "        self.relu = nn.ReLU()\n",
    "        self.fc2 = nn.Linear(hidden_size, num_classes)  \n",
    "    \n",
    "    def forward(self, x):\n",
    "        out = self.fc1(x)\n",
    "        out = self.relu(out)\n",
    "        out = self.fc2(out)\n",
    "        return out\n",
    "\n",
    "model = NeuralNet(input_size, hidden_size, num_classes).to(device)\n",
    "\n",
    "# Loss and optimizer\n",
    "criterion = nn.CrossEntropyLoss()\n",
    "optimizer = torch.optim.Adam(model.parameters(), lr=learning_rate)  \n",
    "\n",
    "# Train the model\n",
    "total_step = len(train_loader)\n",
    "model.load_state_dict(torch.load('model.ckpt'))"
   ]
  },
  {
   "cell_type": "code",
   "execution_count": 28,
   "id": "8b912e24",
   "metadata": {},
   "outputs": [],
   "source": [
    "import scipy.linalg as LA\n",
    "import numpy as np\n",
    "import matplotlib.pyplot as plt\n",
    "\n",
    "W1 = model.fc1.weight.cpu().data\n",
    "b1 = model.fc1.bias.cpu().data.numpy()\n",
    "W2 = model.fc2.weight.cpu().data\n",
    "\n",
    "\n",
    "w1 = W1.numpy()\n",
    "w2 = W2.numpy()\n",
    "Nw1 = LA.null_space(w1,rcond=1e-10)\n",
    "\n",
    "Nw21 = LA.null_space(w2@w1,rcond=1e-10)\n",
    "\n",
    "def project(vect,Ns):\n",
    "    proj = np.zeros_like(vect)\n",
    "    for i in range(Ns.shape[1]):\n",
    "        proj += vect.dot(Ns[:,i])*Ns[:,i]\n",
    "    return proj\n",
    "\n",
    "def get_ns(vect):\n",
    "    vect = vect.cpu().numpy()\n",
    "    acts = (w1@vect.reshape(-1, 1) + b1.reshape(-1, 1)).squeeze()\n",
    "    w1_trunc = w1[acts > 0]\n",
    "    w2_trunc = w2[:, acts > 0]\n",
    "    thresh = 0.3\n",
    "    w_nearzero = w1[np.logical_and(acts < thresh , acts > -thresh)]\n",
    "    w_effective = w2_trunc@w1_trunc\n",
    "    print(w_nearzero.shape, w_effective.shape)\n",
    "    w_total = np.concatenate((w_effective ,w_nearzero), axis=0)\n",
    "    return LA.null_space(w_total, rcond=1e-10)"
   ]
  },
  {
   "cell_type": "code",
   "execution_count": 114,
   "id": "9090d32a",
   "metadata": {},
   "outputs": [
    {
     "data": {
      "text/plain": [
       "(784, 774)"
      ]
     },
     "execution_count": 114,
     "metadata": {},
     "output_type": "execute_result"
    }
   ],
   "source": [
    "Nw21.shape"
   ]
  },
  {
   "cell_type": "code",
   "execution_count": 103,
   "id": "55f86732",
   "metadata": {},
   "outputs": [
    {
     "data": {
      "text/plain": [
       "(500, 1)"
      ]
     },
     "execution_count": 103,
     "metadata": {},
     "output_type": "execute_result"
    }
   ],
   "source": [
    "acts.shape"
   ]
  },
  {
   "cell_type": "code",
   "execution_count": 30,
   "id": "068e09e1",
   "metadata": {},
   "outputs": [
    {
     "data": {
      "text/plain": [
       "(784, 774)"
      ]
     },
     "execution_count": 30,
     "metadata": {},
     "output_type": "execute_result"
    }
   ],
   "source": [
    "Nw21.shape"
   ]
  },
  {
   "cell_type": "code",
   "execution_count": 33,
   "id": "508a74b0",
   "metadata": {},
   "outputs": [
    {
     "data": {
      "text/plain": [
       "<matplotlib.image.AxesImage at 0x7f5ef0a5b908>"
      ]
     },
     "execution_count": 33,
     "metadata": {},
     "output_type": "execute_result"
    },
    {
     "data": {
      "image/png": "[encoded data removed]",
      "text/plain": [
       "<Figure size 432x288 with 1 Axes>"
      ]
     },
     "metadata": {
      "needs_background": "light"
     },
     "output_type": "display_data"
    }
   ],
   "source": [
    "plt.imshow(images[0].cpu())"
   ]
  },
  {
   "cell_type": "code",
   "execution_count": 32,
   "id": "c59d53ea",
   "metadata": {},
   "outputs": [
    {
     "data": {
      "text/plain": [
       "<matplotlib.image.AxesImage at 0x7f5ef06ca198>"
      ]
     },
     "execution_count": 32,
     "metadata": {},
     "output_type": "execute_result"
    },
    {
     "data": {
      "image/png": "[encoded data removed]",
      "text/plain": [
       "<Figure size 432x288 with 1 Axes>"
      ]
     },
     "metadata": {
      "needs_background": "light"
     },
     "output_type": "display_data"
    }
   ],
   "source": [
    "plt.imshow(images[1].cpu())"
   ]
  },
  {
   "cell_type": "code",
   "execution_count": 40,
   "id": "0c2bb735",
   "metadata": {},
   "outputs": [
    {
     "name": "stdout",
     "output_type": "stream",
     "text": [
      "(66, 784) (10, 784)\n"
     ]
    },
    {
     "name": "stderr",
     "output_type": "stream",
     "text": [
      "/fs/class-projects/fall2021/cmsc828w/cs828w04/anaconda3/envs/class_project_11.1/lib/python3.6/site-packages/ipykernel_launcher.py:6: UserWarning: Implicit dimension choice for softmax has been deprecated. Change the call to include dim=X as an argument.\n",
      "  \n"
     ]
    },
    {
     "data": {
      "text/plain": [
       "tensor([[2.8477e-10, 1.4249e-09, 2.6479e-07, 1.3989e-03, 4.0663e-06, 2.0266e-06,\n",
       "         6.9544e-10, 2.1186e-10, 8.2081e-01, 1.7779e-01]], device='cuda:0',\n",
       "       grad_fn=<SoftmaxBackward0>)"
      ]
     },
     "execution_count": 40,
     "metadata": {},
     "output_type": "execute_result"
    },
    {
     "data": {
      "image/png": "[encoded data removed]",
      "text/plain": [
       "<Figure size 432x288 with 1 Axes>"
      ]
     },
     "metadata": {
      "needs_background": "light"
     },
     "output_type": "display_data"
    }
   ],
   "source": [
    "diff_vec = project((images[1] - images[0]).reshape(-1).cpu().numpy() , get_ns(images[0])).reshape(28, 28)\n",
    "alpha = 1\n",
    "n_im = (images[0].cpu() + alpha*diff_vec).clamp(0,1)\n",
    "n_im[n_im < 0.4] = 0\n",
    "plt.imshow(n_im)\n",
    "softmax(model(n_im.reshape(-1).unsqueeze(0).to(device)))"
   ]
  },
  {
   "cell_type": "code",
   "execution_count": 17,
   "id": "74b82c44",
   "metadata": {},
   "outputs": [],
   "source": [
    "softmax = torch.nn.Softmax()"
   ]
  },
  {
   "cell_type": "code",
   "execution_count": 171,
   "id": "a5d4b285",
   "metadata": {
    "scrolled": true
   },
   "outputs": [
    {
     "data": {
      "text/plain": [
       "<matplotlib.image.AxesImage at 0x7f558804f320>"
      ]
     },
     "execution_count": 171,
     "metadata": {},
     "output_type": "execute_result"
    },
    {
     "data": {
      "image/png": "[encoded data removed]",
      "text/plain": [
       "<Figure size 432x288 with 1 Axes>"
      ]
     },
     "metadata": {
      "needs_background": "light"
     },
     "output_type": "display_data"
    }
   ],
   "source": [
    "n_im_thresh = n_im.clone()\n",
    "n_im_thresh[n_im_thresh < 0.01] = 0\n",
    "plt.imshow(n_im_thresh)"
   ]
  },
  {
   "cell_type": "code",
   "execution_count": 166,
   "id": "604a4cb9",
   "metadata": {},
   "outputs": [
    {
     "name": "stderr",
     "output_type": "stream",
     "text": [
      "/fs/class-projects/fall2021/cmsc828w/cs828w04/anaconda3/envs/class_project/lib/python3.6/site-packages/ipykernel_launcher.py:1: UserWarning: Implicit dimension choice for softmax has been deprecated. Change the call to include dim=X as an argument.\n",
      "  \"\"\"Entry point for launching an IPython kernel.\n"
     ]
    },
    {
     "data": {
      "text/plain": [
       "tensor([[1.9606e-07, 1.3858e-09, 3.6096e-06, 6.2097e-04, 5.1499e-04, 4.2711e-06,\n",
       "         1.1207e-07, 5.0016e-08, 8.4643e-02, 9.1421e-01]], device='cuda:0',\n",
       "       grad_fn=<SoftmaxBackward0>)"
      ]
     },
     "execution_count": 166,
     "metadata": {},
     "output_type": "execute_result"
    }
   ],
   "source": [
    "softmax(model(n_im.reshape(-1).unsqueeze(0).to(device)))"
   ]
  },
  {
   "cell_type": "code",
   "execution_count": 172,
   "id": "ea498d32",
   "metadata": {},
   "outputs": [
    {
     "name": "stderr",
     "output_type": "stream",
     "text": [
      "/fs/class-projects/fall2021/cmsc828w/cs828w04/anaconda3/envs/class_project/lib/python3.6/site-packages/ipykernel_launcher.py:1: UserWarning: Implicit dimension choice for softmax has been deprecated. Change the call to include dim=X as an argument.\n",
      "  \"\"\"Entry point for launching an IPython kernel.\n"
     ]
    },
    {
     "data": {
      "text/plain": [
       "tensor([[2.0902e-07, 1.4173e-09, 3.5898e-06, 6.3405e-04, 5.6011e-04, 4.4499e-06,\n",
       "         1.2151e-07, 4.4693e-08, 9.0826e-02, 9.0797e-01]], device='cuda:0',\n",
       "       grad_fn=<SoftmaxBackward0>)"
      ]
     },
     "execution_count": 172,
     "metadata": {},
     "output_type": "execute_result"
    }
   ],
   "source": [
    "softmax(model(n_im_thresh.reshape(-1).unsqueeze(0).to(device)))"
   ]
  },
  {
   "cell_type": "code",
   "execution_count": 8,
   "id": "d65183eb",
   "metadata": {},
   "outputs": [],
   "source": [
    "images = images.reshape(-1, 28, 28)"
   ]
  },
  {
   "cell_type": "code",
   "execution_count": null,
   "id": "1a0b565a",
   "metadata": {},
   "outputs": [],
   "source": []
  },
  {
   "cell_type": "code",
   "execution_count": 9,
   "id": "bd7d20fc",
   "metadata": {},
   "outputs": [
    {
     "data": {
      "text/plain": [
       "<matplotlib.image.AxesImage at 0x7f5ef080d748>"
      ]
     },
     "execution_count": 9,
     "metadata": {},
     "output_type": "execute_result"
    },
    {
     "data": {
      "image/png": "[encoded data removed]",
      "text/plain": [
       "<Figure size 432x288 with 1 Axes>"
      ]
     },
     "metadata": {
      "needs_background": "light"
     },
     "output_type": "display_data"
    }
   ],
   "source": [
    "plt.imshow(images[1].cpu().numpy())"
   ]
  },
  {
   "cell_type": "code",
   "execution_count": 6,
   "id": "14b2b757",
   "metadata": {},
   "outputs": [
    {
     "name": "stdout",
     "output_type": "stream",
     "text": [
      "Accuracy of the network on the 10000 test images: 98.39 %\n"
     ]
    }
   ],
   "source": [
    "with torch.no_grad():\n",
    "    correct = 0\n",
    "    total = 0\n",
    "    for images, labels in test_loader:\n",
    "        images = images.reshape(-1, 28*28).to(device)\n",
    "        labels = labels.to(device)\n",
    "        outputs = model(images)\n",
    "        _, predicted = torch.max(outputs.data, 1)\n",
    "        total += labels.size(0)\n",
    "        correct += (predicted == labels).sum().item()\n",
    "\n",
    "    print('Accuracy of the network on the 10000 test images: {} %'.format(100 * correct / total))"
   ]
  }
 ],
 "metadata": {
  "kernelspec": {
   "display_name": "Python 3",
   "language": "python",
   "name": "python3"
  },
  "language_info": {
   "codemirror_mode": {
    "name": "ipython",
    "version": 3
   },
   "file_extension": ".py",
   "mimetype": "text/x-python",
   "name": "python",
   "nbconvert_exporter": "python",
   "pygments_lexer": "ipython3",
   "version": "3.6.13"
  }
 },
 "nbformat": 4,
 "nbformat_minor": 5
}
